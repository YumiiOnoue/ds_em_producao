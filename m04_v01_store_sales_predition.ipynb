{
 "cells": [
  {
   "cell_type": "markdown",
   "id": "1492269f",
   "metadata": {},
   "source": [
    "# 0.0 IMPORTS"
   ]
  },
  {
   "cell_type": "code",
   "execution_count": null,
   "id": "5e5887dd",
   "metadata": {},
   "outputs": [],
   "source": [
    "import math\n",
    "import numpy as np\n",
    "import pandas as pd\n",
    "import inflection\n",
    "import seaborn as sns\n",
    "import datetime\n",
    "\n",
    "from matplotlib import pyplot as plt\n",
    "from IPython.core.display import HTML\n",
    "from IPython.display import Image"
   ]
  },
  {
   "cell_type": "markdown",
   "id": "4bb98eb6",
   "metadata": {},
   "source": [
    "## 0.1 Helper Functions"
   ]
  },
  {
   "cell_type": "markdown",
   "id": "b8092f76",
   "metadata": {},
   "source": [
    "## 0.2 Loading Data"
   ]
  },
  {
   "cell_type": "code",
   "execution_count": null,
   "id": "736fe728",
   "metadata": {},
   "outputs": [],
   "source": [
    "df_sales_raw = pd.read_csv('data/train.csv', low_memory=False)\n",
    "df_store_raw = pd.read_csv('data/store.csv', low_memory=False)\n",
    "\n",
    "# merge\n",
    "df_raw = pd.merge( df_sales_raw, df_store_raw, how='left', on='Store' )"
   ]
  },
  {
   "cell_type": "code",
   "execution_count": null,
   "id": "0ef26571",
   "metadata": {},
   "outputs": [],
   "source": [
    "df_raw.sample()"
   ]
  },
  {
   "cell_type": "markdown",
   "id": "d70f8250",
   "metadata": {},
   "source": [
    "# 1.0 PASSO 01 - DESCRIÇÃO DOS DADOS"
   ]
  },
  {
   "cell_type": "code",
   "execution_count": null,
   "id": "792d3c3c",
   "metadata": {},
   "outputs": [],
   "source": [
    "df1 = df_raw.copy()"
   ]
  },
  {
   "cell_type": "markdown",
   "id": "ab1f54af",
   "metadata": {},
   "source": [
    "## 1.1 Rename Columns"
   ]
  },
  {
   "cell_type": "code",
   "execution_count": null,
   "id": "7dd53353",
   "metadata": {},
   "outputs": [],
   "source": [
    "cols_old = ['Store', 'DayOfWeek', 'Date', 'Sales', 'Customers', 'Open', 'Promo',\n",
    "       'StateHoliday', 'SchoolHoliday', 'StoreType', 'Assortment',\n",
    "       'CompetitionDistance', 'CompetitionOpenSinceMonth',\n",
    "       'CompetitionOpenSinceYear', 'Promo2', 'Promo2SinceWeek',\n",
    "       'Promo2SinceYear', 'PromoInterval']\n",
    "\n",
    "snakecase = lambda x: inflection.underscore( x )\n",
    "\n",
    "cols_new = list ( map( snakecase, cols_old ) )\n",
    "\n",
    "# rename \n",
    "df1.columns = cols_new"
   ]
  },
  {
   "cell_type": "markdown",
   "id": "1ba8c99c",
   "metadata": {},
   "source": [
    "## 1.2 Data Dimensions"
   ]
  },
  {
   "cell_type": "code",
   "execution_count": null,
   "id": "332f8801",
   "metadata": {},
   "outputs": [],
   "source": [
    "print( 'Number of row: {}'.format( df1.shape[0] ) )\n",
    "print( 'Number of row: {}'.format( df1.shape[1] ) )"
   ]
  },
  {
   "cell_type": "markdown",
   "id": "8b77a373",
   "metadata": {},
   "source": [
    "## 1.3 Data Types"
   ]
  },
  {
   "cell_type": "code",
   "execution_count": null,
   "id": "ad1e4a0d",
   "metadata": {},
   "outputs": [],
   "source": [
    "df1.dtypes"
   ]
  },
  {
   "cell_type": "code",
   "execution_count": null,
   "id": "80d7a436",
   "metadata": {},
   "outputs": [],
   "source": [
    "df1[ 'date' ] = pd.to_datetime( df1[ 'date' ] )\n",
    "df1.dtypes"
   ]
  },
  {
   "cell_type": "markdown",
   "id": "aff68bd1",
   "metadata": {},
   "source": [
    "## 1.4 Check NA"
   ]
  },
  {
   "cell_type": "code",
   "execution_count": null,
   "id": "b58a6a21",
   "metadata": {},
   "outputs": [],
   "source": [
    "df1.isna().sum()"
   ]
  },
  {
   "cell_type": "markdown",
   "id": "9ab46db9",
   "metadata": {},
   "source": [
    "## 1.5 Fillout NA"
   ]
  },
  {
   "cell_type": "code",
   "execution_count": null,
   "id": "7bd1c00b",
   "metadata": {},
   "outputs": [],
   "source": [
    "#competition_distance\n",
    "df1['competition_distance'] = df1['competition_distance'].apply( lambda x: 200000.0 if math.isnan( x ) else x )\n",
    "\n",
    "#competition_open_since_month\n",
    "df1['competition_open_since_month'] = df1.apply( lambda x: x['date'].month if math.isnan( x ['competition_open_since_month'] ) else x['competition_open_since_month'], axis=1 )\n",
    "\n",
    "#competition_open_since_year\n",
    "df1['competition_open_since_year'] = df1.apply( lambda x: x['date'].year if math.isnan( x ['competition_open_since_year'] ) else x['competition_open_since_year'], axis=1 )\n",
    "\n",
    "#promo2_since_week\n",
    "df1['promo2_since_week'] = df1.apply( lambda x: x['date'].week if math.isnan( x ['promo2_since_week'] ) else x['promo2_since_week'], axis=1 )\n",
    "\n",
    "#promo2_since_year\n",
    "df1['promo2_since_year'] = df1.apply( lambda x: x['date'].year if math.isnan( x ['promo2_since_year'] ) else x['promo2_since_year'], axis=1 )\n"
   ]
  },
  {
   "cell_type": "code",
   "execution_count": null,
   "id": "e1ad7129",
   "metadata": {},
   "outputs": [],
   "source": [
    "#promo_interval\n",
    "month_map = {1: 'Jan', 2: 'Fev', 3: 'Mar', 4: 'Apr', 5: 'May', 6: 'Jun', 7: 'Jul', 8:'Aug', 9: 'Sep', 10: 'Oct', 11: 'Nov', 12: 'Dec'}"
   ]
  },
  {
   "cell_type": "code",
   "execution_count": null,
   "id": "81332943",
   "metadata": {},
   "outputs": [],
   "source": [
    "df1['promo_interval'].fillna( 0, inplace=True )"
   ]
  },
  {
   "cell_type": "code",
   "execution_count": null,
   "id": "252395c2",
   "metadata": {},
   "outputs": [],
   "source": [
    "df1['month_map'] = df1['date'].dt.month.map( month_map )"
   ]
  },
  {
   "cell_type": "code",
   "execution_count": null,
   "id": "16860588",
   "metadata": {},
   "outputs": [],
   "source": [
    "df1['is_promo'] = df1[['promo_interval', 'month_map']].apply( lambda x: 0 if x['promo_interval'] == 0 else 1 if x['month_map'] in df1['promo_interval'].str.split( ',' ) else 0, axis=1 )"
   ]
  },
  {
   "cell_type": "code",
   "execution_count": null,
   "id": "3f70945b",
   "metadata": {},
   "outputs": [],
   "source": [
    "df1.sample(5).T"
   ]
  },
  {
   "cell_type": "code",
   "execution_count": null,
   "id": "d5ea42ce",
   "metadata": {},
   "outputs": [],
   "source": [
    "df1.isna().sum()"
   ]
  },
  {
   "cell_type": "markdown",
   "id": "1c3f0fc8",
   "metadata": {},
   "source": [
    "## 1.6 Change Types"
   ]
  },
  {
   "cell_type": "code",
   "execution_count": null,
   "id": "196b0bf8",
   "metadata": {},
   "outputs": [],
   "source": [
    "df1.dtypes"
   ]
  },
  {
   "cell_type": "code",
   "execution_count": null,
   "id": "64f8bf7f",
   "metadata": {},
   "outputs": [],
   "source": [
    "df1[ 'competition_open_since_month' ] = df1[ 'competition_open_since_month' ].astype( int )\n",
    "df1[ 'competition_open_since_year' ] = df1[ 'competition_open_since_year' ].astype( int )\n",
    "\n",
    "df1[ 'promo2_since_week' ] = df1[ 'promo2_since_week' ].astype( int )\n",
    "df1[ 'promo2_since_year' ] = df1[ 'promo2_since_year' ].astype( int )"
   ]
  },
  {
   "cell_type": "markdown",
   "id": "463eb4d0",
   "metadata": {},
   "source": [
    "## 1.7 Descriptive Statistical"
   ]
  },
  {
   "cell_type": "code",
   "execution_count": null,
   "id": "85408e15",
   "metadata": {},
   "outputs": [],
   "source": [
    "num_attributes = df1.select_dtypes( include = [ 'int64', 'float64' ] )\n",
    "cat_attributes = df1.select_dtypes( exclude = [ 'int64', 'float64', 'datetime64[ns]' ] )"
   ]
  },
  {
   "cell_type": "code",
   "execution_count": null,
   "id": "94706a1f",
   "metadata": {},
   "outputs": [],
   "source": [
    "num_attributes.sample(2)"
   ]
  },
  {
   "cell_type": "markdown",
   "id": "829ffa25",
   "metadata": {},
   "source": [
    "### 1.7.1 Numerical Attributes"
   ]
  },
  {
   "cell_type": "code",
   "execution_count": null,
   "id": "a026a42f",
   "metadata": {},
   "outputs": [],
   "source": [
    "# Central Tendency = mean, median\n",
    "ct1 = pd.DataFrame( num_attributes.apply( np.mean ) ).T\n",
    "ct2 = pd.DataFrame( num_attributes.apply( np.median) ).T\n",
    "\n",
    "# Dispersion = std, min, max, range, skew, kurtosis\n",
    "d1 = pd.DataFrame( num_attributes.apply( np.std ) ).T\n",
    "d2 = pd.DataFrame( num_attributes.apply( min ) ).T\n",
    "d3 = pd.DataFrame( num_attributes.apply( max ) ).T\n",
    "d4 = pd.DataFrame( num_attributes.apply( lambda x: x.max() - x.min() ) ).T\n",
    "d5 = pd.DataFrame( num_attributes.apply( lambda x: x.skew() ) ).T\n",
    "d6 = pd.DataFrame( num_attributes.apply( lambda x: x.kurtosis() ) ).T"
   ]
  },
  {
   "cell_type": "code",
   "execution_count": null,
   "id": "7424bfdf",
   "metadata": {},
   "outputs": [],
   "source": [
    "# Concatenate\n",
    "m = pd.concat( [d2, d3, d4, ct1, ct2, d1, d5, d6] ).T.reset_index\n",
    "m.columns( ['attributes', 'min', 'max', 'range', 'mean', 'median', 'std', 'skew', 'kurtosis' ] )\n",
    "m"
   ]
  },
  {
   "cell_type": "code",
   "execution_count": null,
   "id": "c5718a2e",
   "metadata": {},
   "outputs": [],
   "source": [
    "sns.distplot(df1 ['sales'] )"
   ]
  },
  {
   "cell_type": "markdown",
   "id": "0efe6e9a",
   "metadata": {},
   "source": [
    "### 1.7.2 Categorical Attributes"
   ]
  },
  {
   "cell_type": "code",
   "execution_count": null,
   "id": "c3923f57",
   "metadata": {},
   "outputs": [],
   "source": [
    "cat_attributes.apply( lambda x: x.unique().shape[0] )"
   ]
  },
  {
   "cell_type": "code",
   "execution_count": null,
   "id": "e64f9e2c",
   "metadata": {},
   "outputs": [],
   "source": [
    "aux1 = df1[ ( df1['state_holiday'] !='0' ) & ( df1['sales'] > 0 ) ]\n",
    "\n",
    "plt.subplot( 1, 3, 1 )\n",
    "sns.boxplot( x='state_holiday', y='sales', data=aux1 )\n",
    "\n",
    "plt.subplot( 1, 3, 2 )\n",
    "sns.boxplot( x='store_type', y='sales', data=aux1 )\n",
    "\n",
    "plt.subplot( 1, 3, 3 )\n",
    "sns.boxplot( x='assortment', y='sales', data=aux1 )"
   ]
  },
  {
   "cell_type": "markdown",
   "id": "7d5d3f58",
   "metadata": {},
   "source": [
    "# 2.0 PASSO 02 - FEATURE ENGINEERING"
   ]
  },
  {
   "cell_type": "code",
   "execution_count": null,
   "id": "2d784abe",
   "metadata": {},
   "outputs": [],
   "source": [
    "df2 = df1.copy()"
   ]
  },
  {
   "cell_type": "markdown",
   "id": "d9e2f95a",
   "metadata": {},
   "source": [
    "## 2.1 Mapa Mental de Hipóteses"
   ]
  },
  {
   "cell_type": "code",
   "execution_count": null,
   "id": "16e4aa7e",
   "metadata": {},
   "outputs": [],
   "source": [
    "Image( 'img/DAILY_STORE_SALES.png' )"
   ]
  },
  {
   "cell_type": "markdown",
   "id": "47097388",
   "metadata": {},
   "source": [
    "## 2.2 Criação das Hipóteses"
   ]
  },
  {
   "cell_type": "markdown",
   "id": "a67b95e0",
   "metadata": {},
   "source": [
    "### 2.2.1 Hipóteses Loja"
   ]
  },
  {
   "cell_type": "markdown",
   "id": "cf3b166f",
   "metadata": {},
   "source": [
    "**1.** Lojas com maior quadro de funcionários deveriam vender mais\n",
    "\n",
    "**2.** Lojas com maior estoque deveriam vender mais\n",
    "\n",
    "**3.** Lojas com maior porte deveriam vender mais\n",
    "\n",
    "**4.** Lojas com competidores mais próximos deveriam vender menos\n",
    "\n",
    "**5.** Lojas com maior sortimento deveriam vender mais\n",
    "\n",
    "**6.** Lojas com competidores à mais tempo deveriam vender mais"
   ]
  },
  {
   "cell_type": "markdown",
   "id": "c61b982b",
   "metadata": {},
   "source": [
    "### 2.2.2 Hipóteses Produto"
   ]
  },
  {
   "cell_type": "markdown",
   "id": "a0a7aeff",
   "metadata": {},
   "source": [
    "**1.** Lojas que investem mais em Marketing deveriam vender mais\n",
    "\n",
    "**2.** Lojas que expoe mais os produtos nas vitrines deveriam vender mais\n",
    "\n",
    "**3.** Lojas que tem preços menores nos produtos deveriam vender mais\n",
    "\n",
    "**4.** Lojas que tem promoções mais agressivas (descontos maiores) deveriam vender mais\n",
    "\n",
    "**5.** Lojas com promoções ativas por mais tempo deveriam vender mais\n",
    "\n",
    "**6.** Lojas com mais dias de promoções deveriam vender mais\n",
    "\n",
    "**6.** Lojas com mais promoções consecutivas deveriam vender mais\n"
   ]
  },
  {
   "cell_type": "markdown",
   "id": "0d27383d",
   "metadata": {},
   "source": [
    "### 2.2.3 Hipóteses Tempo"
   ]
  },
  {
   "cell_type": "markdown",
   "id": "724d7d8a",
   "metadata": {},
   "source": [
    "**1.** Lojas abertas durante o feriado de Natal deveriam vender mais\n",
    "\n",
    "**2.** Lojas deveriam vender mais ao longo do ano\n",
    "\n",
    "**3.** Lojas deveriam vender mais no segundo semestre do ano\n",
    "\n",
    "**4.** Lojas deveriam vender mais depois do dia 10 de cada mês\n",
    "\n",
    "**5.** Lojas deveriam vender menos ao finais de semana\n",
    "\n",
    "**6.** Lojas deveriam vender menos durante os feriados escolares\n"
   ]
  },
  {
   "cell_type": "markdown",
   "id": "657ed5c5",
   "metadata": {},
   "source": [
    "## 2.3.Lista Final de Hipóteses "
   ]
  },
  {
   "cell_type": "markdown",
   "id": "af7218db",
   "metadata": {},
   "source": [
    "**1.** Lojas com maior sortimento deveriam vender mais\n",
    "\n",
    "**2.** Lojas com competidores mais próximos deveriam vender menos\n",
    "\n",
    "**3.** Lojas com competidores à mais tempo deveriam vender mais"
   ]
  },
  {
   "cell_type": "markdown",
   "id": "2f241838",
   "metadata": {},
   "source": [
    "**4.** Lojas com promoções ativas por mais tempo deveriam vender mais\n",
    "\n",
    "**5.** Lojas com mais dias de promoções deveriam vender mais\n",
    "\n",
    "**6.** Lojas com mais promoções consecutivas deveriam vender mais\n"
   ]
  },
  {
   "cell_type": "markdown",
   "id": "55f42786",
   "metadata": {},
   "source": [
    "**7.** Lojas abertas durante o feriado de Natal deveriam vender mais\n",
    "\n",
    "**8.** Lojas deveriam vender mais ao longo do ano\n",
    "\n",
    "**9.** Lojas deveriam vender mais no segundo semestre do ano\n",
    "\n",
    "**10.** Lojas deveriam vender mais depois do dia 10 de cada mês\n",
    "\n",
    "**11.** Lojas deveriam vender menos ao finais de semana\n",
    "\n",
    "**12.** Lojas deveriam vender menos durante os feriados escolares"
   ]
  },
  {
   "cell_type": "markdown",
   "id": "395450dd",
   "metadata": {},
   "source": [
    "## 2.4. Feature Engineering"
   ]
  },
  {
   "cell_type": "code",
   "execution_count": null,
   "id": "1ebc3348",
   "metadata": {},
   "outputs": [],
   "source": [
    "# year\n",
    "df2['year'] = df2['date'].dt.year\n",
    "\n",
    "# month\n",
    "df2['month'] = df2['date'].dt.month\n",
    "\n",
    "# day\n",
    "df2['day'] = df2['date'].dt.day\n",
    "\n",
    "# week of year\n",
    "df2['week_of_year'] = df2['date'].dt.weekofyear\n",
    "\n",
    "# year week\n",
    "df2['year_week'] = df2['date'].dt.strftime( '%Y-%W' )"
   ]
  },
  {
   "cell_type": "code",
   "execution_count": null,
   "id": "b2349820",
   "metadata": {},
   "outputs": [],
   "source": [
    "# competition since\n",
    "df2['competition_since'] = df2.apply( lambda x: datetime.datetime( year=x['competition_open_since_year'], month=x['competition_open_since_month'], day=1 ), axis=1 )\n",
    "df2['competition_time_month'] = ( ( df2['date'] - df2['competition_since'] )/30).apply( lambda x: x.days ).astype( int )\n",
    "\n",
    "# promo since\n",
    "df2['promo_since'] = df2['promo2_since_year'].astype( str ) + '-' + df2['promo2_since_week'].astype( str )\n",
    "df2['promo_since'] = df2['promo_since'].apply( lambda x: datetime.datetime.strptime( x + '-1', '%Y-%W-%w' ) - datetime.timedelta( days=7 ) )\n",
    "df2['promo_time_week'] = ( ( df2['date'] - df2['promo_since'] )/7 ).apply( lambda x: x.days ).astype( int )"
   ]
  },
  {
   "cell_type": "code",
   "execution_count": null,
   "id": "07c3020c",
   "metadata": {},
   "outputs": [],
   "source": [
    "# assortment\n",
    "df2['assortment'] = df2['assortment'].apply( lambda x: 'basic' if x == 'a' else 'extra' if x == 'b' else 'extended' )\n",
    "\n",
    "# state holiday\n",
    "df2['state_holiday'] = df2['state_holiday'].apply( lambda x: 'public_holiday' if x == 'a' else 'easter_holiday' if x == 'b' else 'christimas' if x == 'c' else 'regular_day' )\n"
   ]
  },
  {
   "cell_type": "code",
   "execution_count": null,
   "id": "63be54d0",
   "metadata": {},
   "outputs": [],
   "source": [
    "df2.head().T"
   ]
  },
  {
   "cell_type": "markdown",
   "id": "394899fa",
   "metadata": {},
   "source": [
    "# 3.0 PASSO 03 - FILTRAGEM DE VARIÁVEIS"
   ]
  },
  {
   "cell_type": "code",
   "execution_count": null,
   "id": "e5415594",
   "metadata": {},
   "outputs": [],
   "source": [
    "df3 = df2.copy()"
   ]
  },
  {
   "cell_type": "markdown",
   "id": "2ddd5562",
   "metadata": {},
   "source": [
    "## 3.1 Filtragem das Linhas"
   ]
  },
  {
   "cell_type": "code",
   "execution_count": null,
   "id": "eb2c2a3a",
   "metadata": {},
   "outputs": [],
   "source": [
    "df3 = df3[ ( df3['open'] != 0 ) & ( df3['sales'] > 0 ) ]"
   ]
  },
  {
   "cell_type": "markdown",
   "id": "28070458",
   "metadata": {},
   "source": [
    "## 3.2 Seleção das Colunas"
   ]
  },
  {
   "cell_type": "code",
   "execution_count": null,
   "id": "def42fbd",
   "metadata": {},
   "outputs": [],
   "source": [
    "cols_drop = ['customers', 'open', 'promo_interval', 'month_map']\n",
    "df3 = df3.drop( cols_drop, axis=1 )"
   ]
  },
  {
   "cell_type": "markdown",
   "id": "7234673b",
   "metadata": {},
   "source": [
    "# 4.0 PASSO 04 - ANÁLISE EXPLORATÓRIA DOS DADOS"
   ]
  },
  {
   "cell_type": "code",
   "execution_count": null,
   "id": "dcbe342e",
   "metadata": {},
   "outputs": [],
   "source": [
    "df4 = df4.copy()"
   ]
  },
  {
   "cell_type": "markdown",
   "id": "b25bd0d0",
   "metadata": {},
   "source": [
    "## 4.1 Análise Univariada"
   ]
  },
  {
   "cell_type": "markdown",
   "id": "0f05147e",
   "metadata": {},
   "source": [
    "### 4.1.1 Response Variable"
   ]
  },
  {
   "cell_type": "code",
   "execution_count": null,
   "id": "9a9d6288",
   "metadata": {},
   "outputs": [],
   "source": [
    "sns.displot( df4['sales'] )"
   ]
  },
  {
   "cell_type": "markdown",
   "id": "d0f60e18",
   "metadata": {},
   "source": [
    "### 4.1.2 Numerical Variable"
   ]
  },
  {
   "cell_type": "code",
   "execution_count": null,
   "id": "fc243951",
   "metadata": {},
   "outputs": [],
   "source": [
    "num_attributes.hist( bins=25 );"
   ]
  },
  {
   "cell_type": "markdown",
   "id": "bc46e4cc",
   "metadata": {},
   "source": [
    "### 4.1.3 Categorical Variable"
   ]
  },
  {
   "cell_type": "code",
   "execution_count": null,
   "id": "14642ab8",
   "metadata": {},
   "outputs": [],
   "source": [
    "df4['state_holiday'].drop_duplicates()"
   ]
  },
  {
   "cell_type": "code",
   "execution_count": null,
   "id": "b442d634",
   "metadata": {},
   "outputs": [],
   "source": [
    "# state_holiday\n",
    "plt.subplot( 1, 2, 1 )\n",
    "a = df4[df4['state_holiday'] != 'regular_day']\n",
    "sns.countplot( a['state_holiday'] )\n",
    "\n",
    "plt.subplot( 1, 2, 2 )\n",
    "sns.kdeplot( df4[df4['state_holiday'] == 'public_holiday']['sales'], label='public_holiday', shade=True)\n",
    "sns.kdeplot( df4[df4['state_holiday'] == 'easter_holiday']['sales'], label='easter_holiday', shade=True)\n",
    "sns.kdeplot( df4[df4['state_holiday'] == 'christmas']['sales'], label='christimas', shade=True)\n",
    "\n",
    "# store_type\n",
    "plt.subplot( 2, 2, 3 )\n",
    "sns.countplot( df4['store_type'] )\n",
    "\n",
    "plt.subplot( 2, 2, 4 )\n",
    "sns.kdeplot( df4[df4['store_type'] == 'a']['sales'], label='a', shade=True)\n",
    "sns.kdeplot( df4[df4['store_type'] == 'b']['sales'], label='b', shade=True)\n",
    "sns.kdeplot( df4[df4['store_type'] == 'c']['sales'], label='c', shade=True)\n",
    "sns.kdeplot( df4[df4['store_type'] == 'd']['sales'], label='d', shade=True)\n",
    "\n",
    "# assortment\n",
    "plt.subplot( 3, 2, 5 )\n",
    "sns.countplot( df4['assortment'] )\n",
    "\n",
    "plt.subplot( 3, 2, 6 )\n",
    "sns.kdeplot( df4[df4['assortment'] == 'extended']['sales'], label='extended', shade=True)\n",
    "sns.kdeplot( df4[df4['assortment'] == 'basic']['sales'], label='basic', shade=True)\n",
    "sns.kdeplot( df4[df4['assortment'] == 'extra']['sales'], label='extra', shade=True)\n"
   ]
  },
  {
   "cell_type": "markdown",
   "id": "f94158b4",
   "metadata": {},
   "source": [
    "## 4.2 Análise Bivariada"
   ]
  },
  {
   "cell_type": "markdown",
   "id": "fe0fe426",
   "metadata": {},
   "source": [
    "### H1. Lojas com maior sortimento deveriam vender mais\n",
    "**FALSE** - lojas com MAIOR SORTIMENTO vendem MENOS"
   ]
  },
  {
   "cell_type": "code",
   "execution_count": null,
   "id": "84d10b47",
   "metadata": {},
   "outputs": [],
   "source": [
    "aux1 = df4[['assortment', 'sales']].groupby( 'assortment' ).sum().reset_index()\n",
    "sns.barplot( x='assortment', y='sales', data=aux1 );\n",
    "\n",
    "aux2 = df4[['year_week', 'assortment', 'sales']].groupby( ['year_week','assortment'] ).sum().reset_index()\n",
    "aux2.pivot( index='year_week', columns='assortment', values='sales' ).plot()\n",
    "\n",
    "aux3 = aux2[aux2['assortment'] == 'extra']\n",
    "aux3.pivot( index='year_week', columns='assortment', values='sales' ).plot()"
   ]
  },
  {
   "cell_type": "markdown",
   "id": "725a91d9",
   "metadata": {},
   "source": [
    "### H2. Lojas com competidores mais próximos deveriam vender menos\n",
    "**FALSE** - Lojas com COMPETIDORES MAIS PRÓXIMOS vendem MAIS"
   ]
  },
  {
   "cell_type": "code",
   "execution_count": null,
   "id": "01eb36b8",
   "metadata": {},
   "outputs": [],
   "source": [
    "aux1 = df4[['competition_distance', 'sales']].groupby( 'competition_distance' ).sum().reset_index()\n",
    "\n",
    "plt.subplot( 1, 3, 1)\n",
    "sns.scatterplot( x='competition_distance', y='sales', data=aux1 );\n",
    "\n",
    "plt.subplot( 1, 3, 2)\n",
    "bins = list( np.arange( 0, 20000, 1000 ) )\n",
    "aux1['competition_distance_binned'] = pd.cut( aux1['competition_distance'], bins=bins )\n",
    "aux2 = aux1[['competition_distance_binned', 'sales']].groupby( 'competition_distance_binned' ).sum().reset_index()\n",
    "sns.barplot( x='competition_distance_binned', y='sales', data=aux2 );\n",
    "plt.xticks( rotation=90 );\n",
    "\n",
    "plt.subplot( 1, 3, 1)\n",
    "x = sns.heatmap( aux1.corr( method='pearson' ), annot=True );\n",
    "bottom, top=x.get_ylim()\n",
    "x.set_ylim( bottom+0.5, top-0.5 );"
   ]
  },
  {
   "cell_type": "markdown",
   "id": "79f9ec57",
   "metadata": {},
   "source": [
    "### H3. Lojas com competidores à mais tempo deveriam vender mais"
   ]
  },
  {
   "cell_type": "code",
   "execution_count": null,
   "id": "e29d0511",
   "metadata": {},
   "outputs": [],
   "source": [
    "plt.subplot( 1, 3, 1 )\n",
    "aux1 = df4[['competition_time_month', 'sales']].groupby( 'competition_time_month' ).sum().reset_index()\n",
    "aux2 = aux1[ (aux1['competition_time_month'] < 120 ) & ( aux1['competition_time_month'] != 0 )]\n",
    "sns.barplot( x='competition_time_month', y='sales', data=aux2 );\n",
    "\n",
    "plt.subplot( 1, 3, 2 )\n",
    "sns.regplot( x='competition_time_month', y='sales', data=aux2 );\n",
    "\n",
    "plt.subplot( 1, 3, 3 )\n",
    "x = sns.heatmap( aux1.corr( method='pearson'), annot=True );\n",
    "bottom, top=x.get_ylim()\n",
    "x.set_ylim( bottom+0.5, top-0.5 );"
   ]
  },
  {
   "cell_type": "markdown",
   "id": "9618eb5f",
   "metadata": {},
   "source": [
    "## 4.3 Análise Multivariada"
   ]
  },
  {
   "cell_type": "markdown",
   "id": "26bd9964",
   "metadata": {},
   "source": [
    "# 5.0 PASSO 05 - "
   ]
  },
  {
   "cell_type": "markdown",
   "id": "8ea178fd",
   "metadata": {},
   "source": [
    "# 6.0 PASSO 06 - "
   ]
  },
  {
   "cell_type": "markdown",
   "id": "b8faf39d",
   "metadata": {},
   "source": []
  },
  {
   "cell_type": "code",
   "execution_count": null,
   "id": "9b28b616",
   "metadata": {},
   "outputs": [],
   "source": []
  }
 ],
 "metadata": {
  "kernelspec": {
   "display_name": "Python 3 (ipykernel)",
   "language": "python",
   "name": "python3"
  },
  "language_info": {
   "codemirror_mode": {
    "name": "ipython",
    "version": 3
   },
   "file_extension": ".py",
   "mimetype": "text/x-python",
   "name": "python",
   "nbconvert_exporter": "python",
   "pygments_lexer": "ipython3",
   "version": "3.9.16"
  }
 },
 "nbformat": 4,
 "nbformat_minor": 5
}
